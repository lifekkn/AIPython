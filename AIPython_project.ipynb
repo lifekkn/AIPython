{
 "cells": [
  {
   "cell_type": "markdown",
   "metadata": {},
   "source": [
    "## AI Python 과정 백설희\n"
   ]
  },
  {
   "cell_type": "markdown",
   "metadata": {},
   "source": [
    "## 라이프매니지먼트 서버구축 실습 (AI Python) 과정 평가 방법\n",
    "\n",
    "평가항목 | 배점기준 | 평가기준 | 비고\n",
    "---------|---------|---------|-------\n",
    "서술형시험 | 50% | 교과목 이해도평가<br> 5/28 오후 5시 시험<br> 객관식 20문항, 주관식 2문항 | \n",
    "수업태도 | 10% | 수업참여도 등 태도평가 | \n",
    "과제물 | 20% | 과제물 완성도 및 제출시간 평가<br>과제물 15%, <br>프로젝트 5% ( 5/16 기획안 발표, 5/25 오후 2시 프로젝트 발표) | \n",
    "출석 | 20% | 출석관리기준의거 평가 (결석 -3점, 지각/조퇴 -1) | \n",
    "총점 | 100% |          |  "
   ]
  },
  {
   "cell_type": "markdown",
   "metadata": {},
   "source": [
    "## 5월 16일 오후 4시\n",
    "### Python project 기획안 발표\n",
    "- Project Topic: Life와 관련한 데이터를 분석하고 분석결과를 그래프로 표현한다.\n",
    "\n",
    "#### 기획안에 포함할 내용\n",
    "* 사용 대상\n",
    "* 기능\n",
    "* 함수(코드블럭)의 flowchart\n"
   ]
  },
  {
   "cell_type": "markdown",
   "metadata": {},
   "source": [
    "5월 9일 실습 과제\n",
    "1. 오늘의 강의 내용을 Jupyter Notebook으로 요약한다. \n",
    "    * 예제 코드를 포함\n",
    "2. 근의 공식 구하는 함수를 파일로 저장한다.\n",
    "3. 2에서 저장한 모듈을 import하여 3개 이상의 2차방정식을 풀이한다. \n",
    "    * 1번 Jupyter Notebook 파일 안에 실행결과 포함.\n",
    "    * list 자료형과 for문을 이용할 것.\n",
    "    * 2차 방정식 3개의 예: [[1, 1, -12], [1, 1, -2], [2, -1, -10]]\n",
    "    \n",
    "[결과물] Jupyter Notebook 파일 1개, 스크립트 파일 1개"
   ]
  },
  {
   "cell_type": "markdown",
   "metadata": {},
   "source": [
    "5월 10일 실습 과제\n",
    "1. 리스트를 이용하여 FIFO (First In First Out) 방법을 구현하는 함수를 작성하라.\n",
    "2. 리스트를 이용하여 LIFO (Last In First Out) 방법을 구현하는 함수를 작성하라.\n",
    "3. Jupyter Notebook에서 1과 2에서 개발한 함수를 호출하여 실행결과를 확인하라.<br>\n",
    "[결과물] Jupyter Notebook 파일 1개, 스크립트 파일 1개"
   ]
  },
  {
   "cell_type": "markdown",
   "metadata": {},
   "source": [
    "## 5월 11일 실습 과제\n",
    "\n",
    "이상형 월드컵<p>\n",
    "\n",
    "8명의 후보 중 토너먼트 방식으로 이상형을 결정하도록 한다.<p>\n",
    "\n",
    "<실행예>\n",
    "\n",
    "1. 프롬프트에 8명의 후보 중 임의의 두 명에 대한 정보를 디스플레이하여 사용자가 둘 중에서 이상형을 선택한다. 선택된 후보는 4강 진출\n",
    "2. 1의 과정을 반복하여 4강에 진출한 4명이 결정된다.\n",
    "3. 다시 1의 과정을 반복하여 최종 이상형이 결정된다."
   ]
  },
  {
   "cell_type": "code",
   "execution_count": 42,
   "metadata": {
    "scrolled": true
   },
   "outputs": [
    {
     "data": {
      "text/plain": [
       "{'ljj': {'age': 45,\n",
       "  'attract': 'fitted body, asian typical handsome guy',\n",
       "  'height': 180,\n",
       "  'picture': 'images/ljj.png'},\n",
       " 'wb': {'age': 45,\n",
       "  'attract': 'bright smile',\n",
       "  'height': 180,\n",
       "  'picture': 'images/wb.png'}}"
      ]
     },
     "execution_count": 42,
     "metadata": {},
     "output_type": "execute_result"
    }
   ],
   "source": [
    "candidates = {\"ljj\": {\n",
    "                    \"height\":180, \n",
    "                    \"age\":45, \n",
    "                    \"attract\":\"fitted body, asian typical handsome guy\", \n",
    "                    \"picture\":\"images/ljj.png\"}, \n",
    "              \"wb\": {\n",
    "                    \"height\":180, \n",
    "                    \"age\":45, \n",
    "                    \"attract\":\"bright smile\", \n",
    "                    \"picture\":\"images/wb.png\"}}\n",
    "\n",
    "candidates\n",
    "              "
   ]
  },
  {
   "cell_type": "markdown",
   "metadata": {},
   "source": [
    "## 5월 14일 실습 과제\n",
    "\n",
    "1. 제공된 insurance.csv 파일을 이용하여 데이터를 요약설명하는 아래와 같은 사전 객체를 만드는 함수를 작성하라. \n",
    "2. insurance.csv를 여러 파일로 쪼개어 함수의 기능을 확인하라.\n",
    "<pre>\n",
    "dataset = {'age':{'min':10, 'max':100},\n",
    "            'sex':{'male':3, 'female':5,\n",
    "            'bmi':{'min':10, 'max':100},\n",
    "            'children':{0:3, 1:4, 2:5},\n",
    "            'smoker':{'yes':3, 'no':4},\n",
    "            'region':{'southeast':10},\n",
    "            'charge':{'min':10, 'max':100}\n",
    "            }\n",
    "</pre>"
   ]
  },
  {
   "cell_type": "markdown",
   "metadata": {},
   "source": [
    "## 5월 15일 실습 과제\n",
    "\n",
    "1. 제공된 insurance.csv 파일을 이용하여 데이터를 요약설명하는 아래와 같은 사전 객체를 만드는 함수를 작성하라. \n",
    "2. insurance.csv를 여러 파일로 쪼개어 함수의 기능을 확인하라.\n",
    "<pre>\n",
    "dataset = {'age':{'min':10, 'max':100},\n",
    "            'sex':{'male':3, 'female':5,\n",
    "            'bmi':{'min':10, 'max':100},\n",
    "            'children':{0:3, 1:4, 2:5},\n",
    "            'smoker':{'yes':3, 'no':4},\n",
    "            'region':{'southeast':10},\n",
    "            'charge':{'min':10, 'max':100}\n",
    "            }\n",
    "</pre>\n",
    "3. 제공된 dsummary.py를 수정하여 열의 개수가 많은 경우에도 위의 기능을 수행할 수 있도록 하라. 입력 값은 insurance.csv와 같은 filename과 각 열의 데이터 타입을 표현하는 리스트이다. 데이터 타입의 예\n",
    "<pre>\n",
    "dtype = ['numeric', 'nominal', 'numeric', 'nominal', 'nominal', 'nominal', 'numeric']\n",
    "</pre>"
   ]
  },
  {
   "cell_type": "markdown",
   "metadata": {},
   "source": [
    "## 5월 16일 실습 과제\n",
    "\n",
    "1. dsummry.py 코드를 파이썬답게 수정하라. 특히, 아래 중 빨간색 항목에 중점을 두어 수정하라.\n",
    "    1. 가능한 한 함수나 클래스로 이루어진 모듈을 사용하라. \n",
    "    2. docstring을 작성하라.\n",
    "    3. public과 non-public 속성을 구분하라. \n",
    "    4. <font color='red'>**_리스트 다룰 때 인덱스를 피하라. <br>(iteration이나 zip, enumerate, map, filter 등의 함수를 이용 - <br>Functional programming 참고)_**</font>\n",
    "    5. 함수에서 입력 값을 인수로, 출력 값은 return 값으로 처리하라. \n",
    "    6. if-elif-else 구문 대신 예외처리 구문(try-except)을 사용하라. \n",
    "    7. 순서 없는 시퀀스의 경우 사전을 사용하라. \n",
    "    8. Structured 데이터 대신 중첩된 이종의 (heterogeneous) 리스트/사전을 사용하 라. \n",
    "    9. 배열과 같은 대규모 수치데이터를 다룰 때는 NumPy를 사용하라. \n",
    "    10. <font color='red'>**_리스트 내포를 사용하라._**</font>\n",
    "    11. 클래스 안에 \\_\\_str\\_\\_과 \\_\\_repr\\_\\_ 메소드를 정의하라. \n",
    "    12. 데이터 구조의 저장 방법을 사용하라.  Python의 기본 문자열 포맷을 이용 (repr() 포맷에 주의), Pickle 또는 Shelve 이용 \n",
    "    13. 운영체제에 의존하지 않는 시스템 인터페이스를 사용하라."
   ]
  },
  {
   "cell_type": "markdown",
   "metadata": {},
   "source": [
    "## 5월 17일 실습 과제\n",
    "\n",
    "1. Qt designer를 이용해 빈 위젯에 QPushButton 하나와 QLabel 하나가 signal-slot으로 연결되도록 하여 first.ui 파일로 저장하라.\n",
    "2. cmd.exe에서 pyuic4 -x first.ui -o first.py 명령을 실행하여 파이썬 코드로 변환하라.\n",
    "3. first.py를 편집하여 버튼을 누르면 matplotlib의 간단한 그래프가 나타나도록 하라.<br> \n",
    "* [참고자료] \n",
    " * 공유 디렉토리 안의 이상형월드컵샘플 (by 허인서)\n",
    " * 제공된 qtmatplotlib.py 예제 코드를 참고\n",
    "* [결과물] first.py 파일"
   ]
  },
  {
   "cell_type": "markdown",
   "metadata": {},
   "source": [
    "## 5월 18일 실습 과제\n",
    "\n",
    "1. 미니프로젝트 기획안을 구체적으로 발전시킨다. UI 화면구성안을 작성하거나 플로우차트 형태로 최종 완료된 프로그램의 작업흐름을 설명한다. <br>\n",
    "\n",
    "[포함할 내용] 확보된 데이터셋의 개요, UI 화면구성안 또는 플로우차트<br>\n",
    "[결과물] 지난번 발표한 기획안에 위 내용을 덧붙여서 제출<br>"
   ]
  }
 ],
 "metadata": {
  "kernelspec": {
   "display_name": "Python 2",
   "language": "python",
   "name": "python2"
  },
  "language_info": {
   "codemirror_mode": {
    "name": "ipython",
    "version": 2
   },
   "file_extension": ".py",
   "mimetype": "text/x-python",
   "name": "python",
   "nbconvert_exporter": "python",
   "pygments_lexer": "ipython2",
   "version": "2.7.14"
  }
 },
 "nbformat": 4,
 "nbformat_minor": 2
}
