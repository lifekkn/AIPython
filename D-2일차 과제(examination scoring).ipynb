{
 "cells": [
  {
   "cell_type": "markdown",
   "metadata": {},
   "source": [
    "1. 각 사람의 객관식 점수(True의 갯수 센후*4), 점수 계산, np.dot(a,s) 도트 연산 활용 a는 학생 번호\n",
    "(0~19 객관식, 20~21행 주관식, 0~9 사람별 답안 셋, 10컬럼 정답)"
   ]
  },
  {
   "cell_type": "code",
   "execution_count": 2,
   "metadata": {},
   "outputs": [],
   "source": [
    "import numpy as np\n",
    "score = np.loadtxt('python_score.csv', delimiter=',', dtype='float64')"
   ]
  },
  {
   "cell_type": "code",
   "execution_count": 13,
   "metadata": {
    "scrolled": false
   },
   "outputs": [
    {
     "data": {
      "text/plain": [
       "array([[ 3.,  3.,  4.,  3.,  3.,  3.,  3.,  3.,  3.,  3.,  3.],\n",
       "       [ 4.,  4.,  4.,  4.,  4.,  3.,  4.,  4.,  2.,  2.,  4.],\n",
       "       [ 1.,  1.,  1.,  1.,  1.,  1.,  1.,  1.,  1.,  1.,  1.],\n",
       "       [ 1.,  1.,  1.,  1.,  1.,  1.,  1.,  1.,  2.,  1.,  1.],\n",
       "       [ 2.,  2.,  3.,  2.,  4.,  2.,  2.,  4.,  4.,  2.,  2.],\n",
       "       [ 2.,  4.,  2.,  4.,  2.,  2.,  2.,  2.,  4.,  2.,  2.],\n",
       "       [ 1.,  1.,  1.,  1.,  1.,  1.,  1.,  1.,  1.,  1.,  1.],\n",
       "       [ 4.,  4.,  4.,  4.,  4.,  4.,  4.,  4.,  4.,  4.,  4.],\n",
       "       [ 4.,  4.,  4.,  4.,  4.,  4.,  4.,  4.,  4.,  2.,  4.],\n",
       "       [ 2.,  2.,  2.,  2.,  2.,  2.,  2.,  2.,  2.,  2.,  2.],\n",
       "       [ 4.,  3.,  4.,  4.,  2.,  4.,  4.,  4.,  4.,  4.,  4.],\n",
       "       [ 3.,  3.,  3.,  2.,  3.,  3.,  3.,  3.,  3.,  3.,  3.],\n",
       "       [ 3.,  3.,  3.,  3.,  3.,  3.,  3.,  3.,  3.,  3.,  3.],\n",
       "       [ 3.,  2.,  3.,  3.,  3.,  3.,  1.,  3.,  3.,  3.,  3.],\n",
       "       [ 2.,  2.,  4.,  2.,  2.,  2.,  2.,  2.,  2.,  2.,  2.],\n",
       "       [ 2.,  2.,  2.,  1.,  1.,  2.,  2.,  2.,  2.,  2.,  2.],\n",
       "       [ 1.,  1.,  1.,  1.,  1.,  1.,  1.,  1.,  2.,  1.,  1.],\n",
       "       [ 2.,  2.,  2.,  2.,  2.,  2.,  2.,  2.,  4.,  2.,  2.],\n",
       "       [ 2.,  2.,  4.,  2.,  2.,  2.,  2.,  2.,  2.,  2.,  2.],\n",
       "       [ 2.,  1.,  2.,  4.,  4.,  2.,  3.,  2.,  1.,  3.,  2.],\n",
       "       [ 9.,  4., 10.,  9.,  6.,  8., 10.,  7.,  6.,  9., 10.],\n",
       "       [ 5.,  7.,  8.,  5.,  7.,  8.,  6.,  8.,  9., 10., 10.]])"
      ]
     },
     "execution_count": 13,
     "metadata": {},
     "output_type": "execute_result"
    }
   ],
   "source": [
    "score"
   ]
  },
  {
   "cell_type": "code",
   "execution_count": 14,
   "metadata": {},
   "outputs": [
    {
     "data": {
      "text/plain": [
       "array([3., 4., 1., 1., 2., 2., 1., 4., 4., 2., 4., 3., 3., 3., 2., 2., 1.,\n",
       "       2., 2., 2.])"
      ]
     },
     "execution_count": 14,
     "metadata": {},
     "output_type": "execute_result"
    }
   ],
   "source": [
    "# Right Answer Sheet\n",
    "ras = score[:20,-1]\n",
    "ras"
   ]
  },
  {
   "cell_type": "code",
   "execution_count": 15,
   "metadata": {
    "scrolled": true
   },
   "outputs": [
    {
     "data": {
      "text/plain": [
       "array([[3., 4., 1., 1., 2., 2., 1., 4., 4., 2., 4., 3., 3., 3., 2., 2.,\n",
       "        1., 2., 2., 2.],\n",
       "       [3., 4., 1., 1., 2., 4., 1., 4., 4., 2., 3., 3., 3., 2., 2., 2.,\n",
       "        1., 2., 2., 1.],\n",
       "       [4., 4., 1., 1., 3., 2., 1., 4., 4., 2., 4., 3., 3., 3., 4., 2.,\n",
       "        1., 2., 4., 2.],\n",
       "       [3., 4., 1., 1., 2., 4., 1., 4., 4., 2., 4., 2., 3., 3., 2., 1.,\n",
       "        1., 2., 2., 4.],\n",
       "       [3., 4., 1., 1., 4., 2., 1., 4., 4., 2., 2., 3., 3., 3., 2., 1.,\n",
       "        1., 2., 2., 4.],\n",
       "       [3., 3., 1., 1., 2., 2., 1., 4., 4., 2., 4., 3., 3., 3., 2., 2.,\n",
       "        1., 2., 2., 2.],\n",
       "       [3., 4., 1., 1., 2., 2., 1., 4., 4., 2., 4., 3., 3., 1., 2., 2.,\n",
       "        1., 2., 2., 3.],\n",
       "       [3., 4., 1., 1., 4., 2., 1., 4., 4., 2., 4., 3., 3., 3., 2., 2.,\n",
       "        1., 2., 2., 2.],\n",
       "       [3., 2., 1., 2., 4., 4., 1., 4., 4., 2., 4., 3., 3., 3., 2., 2.,\n",
       "        2., 4., 2., 1.],\n",
       "       [3., 2., 1., 1., 2., 2., 1., 4., 2., 2., 4., 3., 3., 3., 2., 2.,\n",
       "        1., 2., 2., 3.]])"
      ]
     },
     "execution_count": 15,
     "metadata": {},
     "output_type": "execute_result"
    }
   ],
   "source": [
    "# Objective Answer Sheet of Students\n",
    "oas = score[:20,:-1].T\n",
    "oas"
   ]
  },
  {
   "cell_type": "code",
   "execution_count": 26,
   "metadata": {},
   "outputs": [
    {
     "data": {
      "text/plain": [
       "array([[ True,  True,  True,  True,  True,  True,  True,  True,  True,\n",
       "         True,  True,  True,  True,  True,  True,  True,  True,  True,\n",
       "         True,  True],\n",
       "       [ True,  True,  True,  True,  True, False,  True,  True,  True,\n",
       "         True, False,  True,  True, False,  True,  True,  True,  True,\n",
       "         True, False],\n",
       "       [False,  True,  True,  True, False,  True,  True,  True,  True,\n",
       "         True,  True,  True,  True,  True, False,  True,  True,  True,\n",
       "        False,  True],\n",
       "       [ True,  True,  True,  True,  True, False,  True,  True,  True,\n",
       "         True,  True, False,  True,  True,  True, False,  True,  True,\n",
       "         True, False],\n",
       "       [ True,  True,  True,  True, False,  True,  True,  True,  True,\n",
       "         True, False,  True,  True,  True,  True, False,  True,  True,\n",
       "         True, False],\n",
       "       [ True, False,  True,  True,  True,  True,  True,  True,  True,\n",
       "         True,  True,  True,  True,  True,  True,  True,  True,  True,\n",
       "         True,  True],\n",
       "       [ True,  True,  True,  True,  True,  True,  True,  True,  True,\n",
       "         True,  True,  True,  True, False,  True,  True,  True,  True,\n",
       "         True, False],\n",
       "       [ True,  True,  True,  True, False,  True,  True,  True,  True,\n",
       "         True,  True,  True,  True,  True,  True,  True,  True,  True,\n",
       "         True,  True],\n",
       "       [ True, False,  True, False, False, False,  True,  True,  True,\n",
       "         True,  True,  True,  True,  True,  True,  True, False, False,\n",
       "         True, False],\n",
       "       [ True, False,  True,  True,  True,  True,  True,  True, False,\n",
       "         True,  True,  True,  True,  True,  True,  True,  True,  True,\n",
       "         True, False]])"
      ]
     },
     "execution_count": 26,
     "metadata": {},
     "output_type": "execute_result"
    }
   ],
   "source": [
    "# 점수 set 만들기(오답 체크)\n",
    "bool_dset = (oas==ras)\n",
    "bool_dset"
   ]
  },
  {
   "cell_type": "code",
   "execution_count": 40,
   "metadata": {
    "scrolled": true
   },
   "outputs": [
    {
     "data": {
      "text/plain": [
       "array([[4, 4, 4, 4, 4, 4, 4, 4, 4, 4, 4, 4, 4, 4, 4, 4, 4, 4, 4, 4],\n",
       "       [4, 4, 4, 4, 4, 0, 4, 4, 4, 4, 0, 4, 4, 0, 4, 4, 4, 4, 4, 0],\n",
       "       [0, 4, 4, 4, 0, 4, 4, 4, 4, 4, 4, 4, 4, 4, 0, 4, 4, 4, 0, 4],\n",
       "       [4, 4, 4, 4, 4, 0, 4, 4, 4, 4, 4, 0, 4, 4, 4, 0, 4, 4, 4, 0],\n",
       "       [4, 4, 4, 4, 0, 4, 4, 4, 4, 4, 0, 4, 4, 4, 4, 0, 4, 4, 4, 0],\n",
       "       [4, 0, 4, 4, 4, 4, 4, 4, 4, 4, 4, 4, 4, 4, 4, 4, 4, 4, 4, 4],\n",
       "       [4, 4, 4, 4, 4, 4, 4, 4, 4, 4, 4, 4, 4, 0, 4, 4, 4, 4, 4, 0],\n",
       "       [4, 4, 4, 4, 0, 4, 4, 4, 4, 4, 4, 4, 4, 4, 4, 4, 4, 4, 4, 4],\n",
       "       [4, 0, 4, 0, 0, 0, 4, 4, 4, 4, 4, 4, 4, 4, 4, 4, 0, 0, 4, 0],\n",
       "       [4, 0, 4, 4, 4, 4, 4, 4, 0, 4, 4, 4, 4, 4, 4, 4, 4, 4, 4, 0]])"
      ]
     },
     "execution_count": 40,
     "metadata": {},
     "output_type": "execute_result"
    }
   ],
   "source": [
    "# 점수 set 만들기2(bool_dset을 int로 변경)\n",
    "int_dset = bool_dset.astype(int)\n",
    "Obj_score = int_dset*4\n",
    "Obj_score"
   ]
  },
  {
   "cell_type": "code",
   "execution_count": 67,
   "metadata": {},
   "outputs": [
    {
     "data": {
      "text/plain": [
       "array([80, 64, 64, 64, 64, 76, 72, 76, 52, 68])"
      ]
     },
     "execution_count": 67,
     "metadata": {},
     "output_type": "execute_result"
    }
   ],
   "source": [
    "np.sum(Obj_score,1)"
   ]
  },
  {
   "cell_type": "code",
   "execution_count": 68,
   "metadata": {},
   "outputs": [
    {
     "data": {
      "text/plain": [
       "array([[ 9.,  5.],\n",
       "       [ 4.,  7.],\n",
       "       [10.,  8.],\n",
       "       [ 9.,  5.],\n",
       "       [ 6.,  7.],\n",
       "       [ 8.,  8.],\n",
       "       [10.,  6.],\n",
       "       [ 7.,  8.],\n",
       "       [ 6.,  9.],\n",
       "       [ 9., 10.]])"
      ]
     },
     "execution_count": 68,
     "metadata": {},
     "output_type": "execute_result"
    }
   ],
   "source": [
    "# Subjective Answer Sheet of Students\n",
    "subj_score = score[20:,:-1].T\n",
    "subj_score"
   ]
  },
  {
   "cell_type": "code",
   "execution_count": 70,
   "metadata": {},
   "outputs": [
    {
     "data": {
      "text/plain": [
       "array([14., 11., 18., 14., 13., 16., 16., 15., 15., 19.])"
      ]
     },
     "execution_count": 70,
     "metadata": {},
     "output_type": "execute_result"
    }
   ],
   "source": [
    "np.sum(subj_score,1)"
   ]
  },
  {
   "cell_type": "code",
   "execution_count": 71,
   "metadata": {},
   "outputs": [
    {
     "name": "stdout",
     "output_type": "stream",
     "text": [
      "[94. 75. 82. 78. 77. 92. 88. 91. 67. 87.]\n"
     ]
    }
   ],
   "source": [
    "total_score=np.sum(Obj_score,1)+np.sum(subj_score,1)\n",
    "print (total_score)"
   ]
  }
 ],
 "metadata": {
  "kernelspec": {
   "display_name": "Python 3",
   "language": "python",
   "name": "python3"
  },
  "language_info": {
   "codemirror_mode": {
    "name": "ipython",
    "version": 3
   },
   "file_extension": ".py",
   "mimetype": "text/x-python",
   "name": "python",
   "nbconvert_exporter": "python",
   "pygments_lexer": "ipython3",
   "version": "3.6.4"
  }
 },
 "nbformat": 4,
 "nbformat_minor": 2
}
